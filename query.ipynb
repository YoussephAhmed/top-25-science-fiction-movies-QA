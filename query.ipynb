{
 "cells": [
  {
   "cell_type": "code",
   "execution_count": 1,
   "metadata": {},
   "outputs": [],
   "source": [
    "# load the environment variables and import the necessary libraries\n",
    "import os\n",
    "from dotenv import load_dotenv\n",
    "import openai\n",
    "from langchain_openai import OpenAIEmbeddings\n",
    "from langchain_community.vectorstores import Chroma\n",
    "import logging\n",
    "import requests\n",
    "from add_images_database import encode_image\n",
    "\n",
    "logger = logging.getLogger(__name__)\n",
    "\n",
    "load_dotenv()\n",
    "\n",
    "# set the OpenAI API key\n",
    "openai.api_key = os.getenv(\"OPENAI_API_KEY\")\n"
   ]
  },
  {
   "cell_type": "code",
   "execution_count": 55,
   "metadata": {},
   "outputs": [],
   "source": [
    "def query_movie_database(question):\n",
    "    # Set up embeddings and database\n",
    "    embeddings = OpenAIEmbeddings()\n",
    "    db = Chroma(persist_directory=\"chroma\", embedding_function=embeddings)\n",
    "    DATA_PATH = \"extracted_images/\"\n",
    "\n",
    "    # Query the database\n",
    "    results = db.similarity_search_with_relevance_scores(question, k=10)\n",
    "    results = [result for result in results if result[1] >= 0.6]\n",
    "\n",
    "    # Check if results are empty\n",
    "    if len(results) == 0:\n",
    "        logger.info(\"No matching results found\")\n",
    "        return \"No matching results found.\"\n",
    "\n",
    "    # Extract metadata\n",
    "    sources = [result[0].metadata[\"source\"] for result in results]\n",
    "    files = [result[0].metadata[\"file\"] for result in results]\n",
    "    documents = [result[0].page_content for result in results]\n",
    "\n",
    "    # Separate sources that end with .png and .txt into different arrays\n",
    "    png_files = [file for file in files if file.endswith(\".png\")]\n",
    "    png_documents = [document for document, file in zip(documents, files) if file.endswith(\".png\")]\n",
    "    txt_documents = [document for document, file in zip(documents, files) if file.endswith(\".txt\")]\n",
    "    txt_sources = [source for source, file in zip(sources, files) if file.endswith(\".txt\")]\n",
    "    # Create context for the AI\n",
    "    context = \"\"\"\n",
    "    You are an expert film analyst with deep knowledge of cinema.\n",
    "    You can provide detailed descriptions of movies, analyze visual elements, identify characters, scenes, and cinematography techniques.\n",
    "    Use both textual information and visual cues from images to provide comprehensive answers.\n",
    "    When describing movie scenes or visuals, be specific about what is shown in the images, including characters, settings,\n",
    "    and visual storytelling elements.\n",
    "    \"\"\"\n",
    "\n",
    "    # Construct messages for API call\n",
    "    messages = [\n",
    "        {\n",
    "            \"role\": \"system\",\n",
    "            \"content\": context\n",
    "        },\n",
    "        {\n",
    "            \"role\": \"user\",\n",
    "            \"content\": f\"Here are the images with the the rank of the movie in the list and a description of the movie (if any):\"\n",
    "        },\n",
    "        {\n",
    "            \"role\": \"user\",\n",
    "            \"content\": [    \n",
    "                *[\n",
    "                    {\n",
    "                        \"type\": \"image_url\",\n",
    "                        \"image_url\": {\n",
    "                            \"url\": f\"data:image/jpeg;base64,{encode_image(DATA_PATH + file)}\"\n",
    "                        }\n",
    "                    }\n",
    "                    for file in png_files\n",
    "                ],\n",
    "                *[\n",
    "                    {\"type\": \"text\", \"text\": f\"Image description: {document}\"}\n",
    "                    for document in png_documents\n",
    "                ]\n",
    "            ],\n",
    "        },\n",
    "        {\n",
    "            \"role\": \"user\",\n",
    "            \"content\": f\"Here are the text documents from the pdf with the descriptions (if any):\"\n",
    "        },\n",
    "        {\n",
    "            \"role\": \"user\",\n",
    "            \"content\": [    \n",
    "                *[\n",
    "                    {\"type\": \"text\", \"text\": f\"{source}: {document}\"}\n",
    "                    for document, source in zip(txt_documents, txt_sources)\n",
    "                ]\n",
    "            ]\n",
    "        },\n",
    "        {\n",
    "            \"role\": \"user\",\n",
    "            \"content\": f\"Here is the question: {question}\"\n",
    "        },\n",
    "        {\n",
    "            \"role\": \"user\",\n",
    "            \"content\": f\"append all the sources (page numbers) of the pdf pages used to answer the question in the end of the answer, do not include the images sources\"\n",
    "        }\n",
    "    ]\n",
    "    \n",
    "    # Prepare API request\n",
    "    payload = {\n",
    "        \"model\": \"gpt-4o\",\n",
    "        \"messages\": messages,\n",
    "        \"max_tokens\": 15000,\n",
    "        \"temperature\": 0.0,\n",
    "    }\n",
    "\n",
    "    headers = {\n",
    "        \"Content-Type\": \"application/json\",\n",
    "        \"Authorization\": f\"Bearer {os.getenv('OPENAI_API_KEY')}\",\n",
    "    }\n",
    "\n",
    "    # Make API call\n",
    "    url = \"https://api.openai.com/v1/chat/completions\"\n",
    "    response_json = requests.post(url, headers=headers, json=payload).json()\n",
    "\n",
    "    # Extract and return the response\n",
    "    response_text = response_json[\"choices\"][0][\"message\"][\"content\"]\n",
    "    return response_text"
   ]
  },
  {
   "cell_type": "markdown",
   "metadata": {},
   "source": [
    "### Use case 1\n"
   ]
  },
  {
   "cell_type": "code",
   "execution_count": 61,
   "metadata": {},
   "outputs": [
    {
     "name": "stdout",
     "output_type": "stream",
     "text": [
      "Here are some movies about AI and robotics:\n",
      "\n",
      "1. **Ex Machina (2014)**\n",
      "   - A suspenseful sci-fi film where a programmer is invited to his CEO's secluded home to administer the Turing test to a humanoid robot. The film explores themes of artificial intelligence, consciousness, and the ethical implications of creating sentient machines.\n",
      "\n",
      "2. **Metropolis (1927)**\n",
      "   - A classic silent film set in a dystopian future where a city is divided between the working class and city planners. It features the Maschinenmensch, a robot that plays a central role in the story, highlighting themes of class struggle and the dehumanizing effects of technology.\n",
      "\n",
      "3. **Blade Runner (1982)**\n",
      "   - Set in a future Los Angeles, the film follows a former police officer tasked with hunting down rogue replicants, bioengineered beings virtually identical to humans. It delves into themes of identity, humanity, and the moral complexities of artificial life.\n",
      "\n",
      "**Sources:**\n",
      "- Page 5\n",
      "- Page 8\n",
      "- Page 29\n"
     ]
    }
   ],
   "source": [
    "print(query_movie_database(\"List the movies that is about ai and robotics with a short description of each movie\"))"
   ]
  },
  {
   "cell_type": "markdown",
   "metadata": {},
   "source": [
    "### Use case 2"
   ]
  },
  {
   "cell_type": "code",
   "execution_count": 62,
   "metadata": {},
   "outputs": [
    {
     "name": "stdout",
     "output_type": "stream",
     "text": [
      "The movies with a poster featuring a space uniform are:\n",
      "\n",
      "1. **2001: A Space Odyssey (1968)**\n",
      "2. **Alien (1979)**\n",
      "3. **Aliens (1986)**\n",
      "4. **Galaxy Quest (1999)**\n",
      "\n",
      "**Sources:**\n",
      "- Page 27\n",
      "- Page 14\n"
     ]
    }
   ],
   "source": [
    "print(query_movie_database(\"List the movies that have a poster with a space uniform\"))"
   ]
  },
  {
   "cell_type": "markdown",
   "metadata": {},
   "source": [
    "### Use case 3"
   ]
  },
  {
   "cell_type": "code",
   "execution_count": 59,
   "metadata": {},
   "outputs": [
    {
     "name": "stdout",
     "output_type": "stream",
     "text": [
      "The comments mention several movies that are not included in the main list of the \"25 Best Sci-Fi Movies of All Time\" according to IGN. These movies are:\n",
      "\n",
      "1. **Minority Report** - Mentioned as a favorite and considered underrated by some commenters.\n",
      "2. **Total Recall** - Suggested by commenters as deserving a spot on the list.\n",
      "3. **Predator** - Also mentioned as a potential candidate for the list.\n",
      "4. **Arrival** - Praised as a masterpiece by Denis Villeneuve and suggested for inclusion.\n",
      "5. **Interstellar** - Mentioned by multiple commenters as deserving a place on the list.\n",
      "6. **Children of Men** - Described as a film that should be included and is often overlooked.\n",
      "7. **Sunshine** - Suggested as a replacement for \"Eternal Sunshine of the Spotless Mind\" and described as underrated.\n",
      "8. **The Terminator** - Mentioned as a classic that should be on the list, despite the preference for its sequel, \"Terminator 2: Judgment Day.\"\n",
      "\n",
      "These films were highlighted by users in the comments section as deserving recognition alongside those officially listed.\n",
      "\n",
      "**Sources:**\n",
      "- Page 35\n",
      "- Page 36\n",
      "- Page 34\n"
     ]
    }
   ],
   "source": [
    "print(query_movie_database(\"What other movies mentioned in the comments and not in the list?\"))"
   ]
  },
  {
   "cell_type": "markdown",
   "metadata": {},
   "source": [
    "### Use case 4"
   ]
  },
  {
   "cell_type": "code",
   "execution_count": 58,
   "metadata": {},
   "outputs": [
    {
     "name": "stdout",
     "output_type": "stream",
     "text": [
      "The animated movie mentioned in the list of \"The 25 Best Sci-Fi Movies of All Time\" is \"WALL-E.\" This film is highlighted for its imaginative storytelling and satirical social commentary on excess and pollution, presented through the eyes of a trash-bot on a future Earth overwhelmed by garbage. It is noted for its mostly silent, slapstick-prone protagonist and its emotionally charged narrative.\n",
      "\n",
      "Sources: Page 4\n"
     ]
    }
   ],
   "source": [
    "print(query_movie_database(\"What are the animation movies in the list?\"))"
   ]
  },
  {
   "cell_type": "markdown",
   "metadata": {},
   "source": [
    "### Use case 5"
   ]
  },
  {
   "cell_type": "code",
   "execution_count": 57,
   "metadata": {},
   "outputs": [
    {
     "name": "stdout",
     "output_type": "stream",
     "text": [
      "The movie with rank 7 is \"Metropolis\" (1927).\n",
      "\n",
      "**Sources: Page 3, Page 14, Page 21, Page 25, Page 26**\n"
     ]
    }
   ],
   "source": [
    "print(query_movie_database(\"What is the movie with rank 7?\"))"
   ]
  },
  {
   "cell_type": "code",
   "execution_count": null,
   "metadata": {},
   "outputs": [],
   "source": []
  }
 ],
 "metadata": {
  "kernelspec": {
   "display_name": "ai_assistant",
   "language": "python",
   "name": "python3"
  },
  "language_info": {
   "codemirror_mode": {
    "name": "ipython",
    "version": 3
   },
   "file_extension": ".py",
   "mimetype": "text/x-python",
   "name": "python",
   "nbconvert_exporter": "python",
   "pygments_lexer": "ipython3",
   "version": "3.10.0"
  }
 },
 "nbformat": 4,
 "nbformat_minor": 2
}
